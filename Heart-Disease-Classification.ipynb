{
 "cells": [
  {
   "cell_type": "markdown",
   "id": "7fd39a92",
   "metadata": {},
   "source": [
    "# Machine Learning Model - Heart Disease Prediction \n",
    "\n",
    "The notebook uses Python machine learning and data science libraries to build a model to predict if a patient has heart disease based on underlying medical data. \n",
    "\n",
    "Outline of Project:\n",
    "1. Problem Definition\n",
    "2. Data\n",
    "3. Evaluation\n",
    "4. Data Features\n",
    "5. Modeling\n",
    "6. Experimentation\n",
    "\n",
    "\n",
    "## 1. Problem Definition\n",
    "\n",
    "Based on the patient medical data provided, the objective of this project is to implement a binary classification machine learning model to predict if the patient has heart disease.\n",
    "\n",
    "\n",
    "## 2. Data\n",
    "\n",
    "The original source of the data used to produce this model can be found at the UCI Machine Learning Repository:\n",
    "https://archive.ics.uci.edu/ml/datasets/Heart%20Disease\n",
    "\n",
    "\n",
    "## 3. Evaluation\n",
    "\n",
    "Evaluation Metric - Accuracy (95%) - can the model be implemented and improved to predict patient heart disease 95% of the time?\n",
    "\n"
   ]
  },
  {
   "cell_type": "markdown",
   "id": "a87a5296",
   "metadata": {},
   "source": [
    "## 4. Data Features\n",
    "\n",
    "\n",
    "### Data Dictionary: 14 attributes total \n",
    "\n",
    "\n",
    "| # | Attribute                 | Field Name | Type    | Notes                                            |\n",
    "|:--| :--                       | :--------- | :-----: | :------------                                    |\n",
    "|01.| Age                       | age        | int64   | age in years                                     |\n",
    "|02.| Sex                       | sex        | int64   | gender (1=male; 0=female)                        |\n",
    "|03.| Chest Pain Type           | cp         | int64   | chest pain type (see below)                      |\n",
    "|04.| Resting Blood Pressure    | trestbps   | int64   | resting blood pressure mm Hg                     |\n",
    "|05.| Serum Cholesterol         | chol       | int64   | LDL + HDL + .2 * triglycerides (mg/dl)           |\n",
    "|06.| Fasting Blood Sugar       | fbs        | int64   | > 120 mg/dl (1=True; 0=False)                    |\n",
    "|07.| Resting ECG Results       | restecg    | int64   | resting electrocardiographic results (see below) |\n",
    "|08.| Max Heart Rate            | thalach    | int64   | maximum heart rate                               |\n",
    "|09.| Exercise-Induced Angina   | exang      | int64   | exercise induced angina (1=yes; 0=no)            |\n",
    "|10.| ST Depression             | oldpeak    | float64 | ST depression by exercise relative to rest       |\n",
    "|11.| ST Peak Slope             | slope      | int64   | slope of peak exercise ST segment (see below)    |\n",
    "|12.| Flourosopy-Colored Vessels| ca         | int64   | number of major vessels 0-3                      |\n",
    "|13.| Thallium Results          | thal       | int64   | Result of thallium stress test                   |\n",
    "|14.| Heart Disease Diagnosis   | target     | int64   | Heart Disease (1=True; 0=False)                  |\n",
    "\n",
    "#### Legend\n",
    "\n",
    "##### 03. Chest Pain Type\n",
    "| Value | Description      | \n",
    "| :---: | :--              |\n",
    "| 0     | asymptomatic     | \n",
    "| 1     | typical angina   | \n",
    "| 2     | atypical angina  | \n",
    "| 3     | non-anginal pain | \n",
    "\n",
    "\n",
    "##### 07. Resting ECG Results\n",
    "| Value | Description              |\n",
    "| :--:  | :--                      |  \n",
    "| 0     | normal                   | \n",
    "| 1     | ST-T wave abnormality    | \n",
    "| 2     | ventricular hypertrophy  | \n",
    "\n",
    "##### 11. ST Peak Slope \n",
    "| Value | Description                        |\n",
    "| :--:  | :--                                |  \n",
    "| 0     | upward (uncommon)                  | \n",
    "| 1     | flat (typical of healthy heart)    | \n",
    "| 2     | downward (sign of unhealthy heart) |     \n",
    "\n",
    "##### 13. Thallium Results\n",
    "| Value | Description                        |\n",
    "| :--:  | :--                                |  \n",
    "| 1,3   | normal                             | \n",
    "| 6     | fixed defect                       | \n",
    "| 7     | reversible defect                  | \n",
    "    \n",
    "**Note**: No personal identifiable information (PPI) can be found in the dataset.  "
   ]
  },
  {
   "cell_type": "code",
   "execution_count": 11,
   "id": "21d0a484",
   "metadata": {},
   "outputs": [
    {
     "data": {
      "text/html": [
       "<style>\n",
       "    table {\n",
       "        display: inline-block\n",
       "    }\n",
       "</style>\n"
      ],
      "text/plain": [
       "<IPython.core.display.HTML object>"
      ]
     },
     "metadata": {},
     "output_type": "display_data"
    }
   ],
   "source": [
    "# Formatting tables above\n",
    "%%html\n",
    "<style>\n",
    "    table {\n",
    "        display: inline-block\n",
    "    }\n",
    "</style>"
   ]
  },
  {
   "cell_type": "markdown",
   "id": "383bc3fd",
   "metadata": {},
   "source": [
    "## Tools used in Model:\n",
    "\n",
    "Data analysis and modeling using Python - pandas, NumPy, scikit-learn, and Matplotlib. "
   ]
  },
  {
   "cell_type": "code",
   "execution_count": 12,
   "id": "52f23971",
   "metadata": {},
   "outputs": [],
   "source": [
    "# Data \n",
    "import pandas as pd\n",
    "import numpy as np\n",
    "\n",
    "# Visualization\n",
    "import matplotlib.pyplot as plt\n",
    "import seaborn as sns\n",
    "\n",
    "%matplotlib inline\n",
    "\n",
    "# sklearn classification models\n",
    "from sklearn.linear_model import LogisticRegression\n",
    "from sklearn.neighbors import KNeighborsClassifier\n",
    "from sklearn.ensemble import RandomForestClassifier\n",
    "\n",
    "# sklearn model selection and evaluation metrics\n",
    "from sklearn.model_selection import train_test_split, cross_val_score\n",
    "from sklearn.model_selection import RandomizedSearchCV, GridSearchCV\n",
    "from sklearn.metrics import confusion_matrix, classification_report\n",
    "from sklearn.metrics import precision_score, recall_score, f1_score\n",
    "from sklearn.metrics import plot_roc_curve"
   ]
  },
  {
   "cell_type": "code",
   "execution_count": null,
   "id": "f65766b3",
   "metadata": {},
   "outputs": [],
   "source": []
  },
  {
   "cell_type": "code",
   "execution_count": null,
   "id": "b4d71c2a",
   "metadata": {},
   "outputs": [],
   "source": []
  }
 ],
 "metadata": {
  "kernelspec": {
   "display_name": "Python 3 (ipykernel)",
   "language": "python",
   "name": "python3"
  },
  "language_info": {
   "codemirror_mode": {
    "name": "ipython",
    "version": 3
   },
   "file_extension": ".py",
   "mimetype": "text/x-python",
   "name": "python",
   "nbconvert_exporter": "python",
   "pygments_lexer": "ipython3",
   "version": "3.9.13"
  }
 },
 "nbformat": 4,
 "nbformat_minor": 5
}
