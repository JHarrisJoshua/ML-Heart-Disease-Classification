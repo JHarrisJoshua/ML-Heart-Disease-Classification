{
 "cells": [
  {
   "cell_type": "markdown",
   "id": "36923879",
   "metadata": {},
   "source": [
    "# Predicting Heart Disease using Machine Learning\n",
    "\n",
    "The notebook uses Python machine learning and data science libraries to build a model to predict if a patient has heart disease based on underlying medical data. "
   ]
  },
  {
   "cell_type": "code",
   "execution_count": null,
   "id": "9a60cc39",
   "metadata": {},
   "outputs": [],
   "source": []
  }
 ],
 "metadata": {
  "kernelspec": {
   "display_name": "Python 3 (ipykernel)",
   "language": "python",
   "name": "python3"
  },
  "language_info": {
   "codemirror_mode": {
    "name": "ipython",
    "version": 3
   },
   "file_extension": ".py",
   "mimetype": "text/x-python",
   "name": "python",
   "nbconvert_exporter": "python",
   "pygments_lexer": "ipython3",
   "version": "3.9.13"
  }
 },
 "nbformat": 4,
 "nbformat_minor": 5
}
